{
 "cells": [
  {
   "cell_type": "code",
   "execution_count": 4,
   "id": "destroyed-fetish",
   "metadata": {},
   "outputs": [],
   "source": [
    "from hazm import *\n",
    "import openpyxl\n",
    "from pathlib import Path\n",
    "import collections\n",
    "import math\n",
    "import itertools\n",
    "import pickle"
   ]
  },
  {
   "cell_type": "code",
   "execution_count": 5,
   "id": "ready-thumb",
   "metadata": {},
   "outputs": [],
   "source": [
    "\n",
    "N_documents = 0\n",
    "normalizer = Normalizer()\n",
    "stemmer = Stemmer()\n",
    "tokens = []\n",
    "doc_vectors = {}"
   ]
  },
  {
   "cell_type": "code",
   "execution_count": 6,
   "id": "considerable-hungarian",
   "metadata": {},
   "outputs": [],
   "source": [
    "punctuations = [':', '،', '.', ')', '(', '}', '{', '؟', '!', '-', '/', '؛', '#', '*', '\\n', '\\\"',\n",
    "                ']', '[', '«', '»', '٪', '+', '٠', '\\\\', '\\\"', '_', '\\'']\n",
    "\n"
   ]
  },
  {
   "cell_type": "code",
   "execution_count": 22,
   "id": "divided-absence",
   "metadata": {},
   "outputs": [
    {
     "name": "stdout",
     "output_type": "stream",
     "text": [
      "Wall time: 18.2 s\n"
     ]
    }
   ],
   "source": [
    "%%time\n",
    "\n",
    "xlsx_file = Path('../IR_Spring2021_ph12_7k.xlsx')\n",
    "wb_obj = openpyxl.load_workbook(xlsx_file)\n",
    "sheet = wb_obj.active\n",
    "for row in sheet.iter_rows():\n",
    "    each_doc_vector = {}\n",
    "    line = row[1].value\n",
    "    if row[0].value == 'id':\n",
    "        continue\n",
    "    N_documents += 1\n",
    "    line = normalizer.normalize(line)\n",
    "    for p in punctuations:\n",
    "        if p in line:\n",
    "            line = line.replace(p, \" \")\n",
    "    extracted_tokens = word_tokenize(line)\n",
    "    stem_tokens = []\n",
    "    for t in extracted_tokens:\n",
    "        stem_tokens.append(stemmer.stem(t))\n",
    "\n",
    "    term_doc = []\n",
    "    for w in stem_tokens:\n",
    "        term_doc.append({'term': w, 'doc_id': int(row[0].value)})\n",
    "    tokens.extend(term_doc)\n",
    "    \n",
    "    for t in stem_tokens:\n",
    "        each_doc_vector[t] = each_doc_vector.get(t, 0) + 1\n",
    "    doc_vectors[int(row[0].value)] = collections.OrderedDict(sorted(each_doc_vector.items()))\n"
   ]
  },
  {
   "cell_type": "code",
   "execution_count": 23,
   "id": "municipal-honolulu",
   "metadata": {},
   "outputs": [
    {
     "name": "stdout",
     "output_type": "stream",
     "text": [
      "Wall time: 1.95 s\n"
     ]
    }
   ],
   "source": [
    "%%time\n",
    "dictionary = {}\n",
    "inverted_index = {}\n",
    "idf = {}\n",
    "doc_term_frq = []\n",
    "for t in tokens:\n",
    "    word = t['term']\n",
    "    doc_id = t['doc_id']\n",
    "    \n",
    "    frq = dictionary.get(word, 0)\n",
    "    dictionary[word] = frq + 1\n",
    "\n",
    "    doc_list = inverted_index.get(word, [])\n",
    "    doc_list.append(doc_id)\n",
    "    inverted_index[word] = doc_list\n",
    "    \n",
    "    "
   ]
  },
  {
   "cell_type": "code",
   "execution_count": 24,
   "id": "allied-president",
   "metadata": {},
   "outputs": [
    {
     "name": "stdout",
     "output_type": "stream",
     "text": [
      "Wall time: 21.9 ms\n"
     ]
    }
   ],
   "source": [
    "%%time\n",
    "# remove stop words\n",
    "frq_sorted_dic = {k: v for k, v in sorted(dictionary.items(), key=lambda item: item[1])}\n",
    "stop_words = dict(itertools.islice(reversed(frq_sorted_dic.items()), 20))\n",
    "for s in stop_words:\n",
    "    dictionary.pop(s)\n",
    "    inverted_index.pop(s)"
   ]
  },
  {
   "cell_type": "code",
   "execution_count": null,
   "id": "innocent-illness",
   "metadata": {},
   "outputs": [],
   "source": [
    "%%time\n",
    "\n",
    "inver_inex_dup = inverted_index.copy()\n",
    "for i in inverted_index:\n",
    "    inverted_index[i] = list(dict.fromkeys(inverted_index[i]))\n",
    "inverted_index = collections.OrderedDict(sorted(inverted_index.items()))\n",
    "dictionary = collections.OrderedDict(sorted(dictionary.items()))\n",
    "\n",
    "print(inverted_index.keys())"
   ]
  },
  {
   "cell_type": "code",
   "execution_count": null,
   "id": "understood-copper",
   "metadata": {},
   "outputs": [],
   "source": [
    "%%time\n",
    "\n",
    "for term in inverted_index:\n",
    "    df = len(inverted_index[term])\n",
    "    idf[term] = math.log(N_documents / df, 10)\n",
    "    print(idf[term])"
   ]
  },
  {
   "cell_type": "markdown",
   "id": "transparent-issue",
   "metadata": {},
   "source": [
    "# Index Elimination"
   ]
  },
  {
   "cell_type": "code",
   "execution_count": 27,
   "id": "unnecessary-party",
   "metadata": {},
   "outputs": [
    {
     "name": "stdout",
     "output_type": "stream",
     "text": [
      "Wall time: 18.8 s\n"
     ]
    }
   ],
   "source": [
    "%%time\n",
    "\n",
    "index_elimination_model = {}\n",
    "for term in inverted_index.keys():\n",
    "    index_elimination_model[term] = {}\n",
    "    for doc in inverted_index[term]:\n",
    "        index_elimination_model[term][doc] = inver_inex_dup[term].count(doc)\n",
    "\n",
    "# print(index_elimination_model['بود'])"
   ]
  },
  {
   "cell_type": "markdown",
   "id": "legendary-trustee",
   "metadata": {},
   "source": [
    "### Champion List"
   ]
  },
  {
   "cell_type": "code",
   "execution_count": 28,
   "id": "junior-extent",
   "metadata": {},
   "outputs": [
    {
     "name": "stdout",
     "output_type": "stream",
     "text": [
      "Wall time: 498 ms\n"
     ]
    }
   ],
   "source": [
    "%%time\n",
    "\n",
    "champion_size = 150\n",
    "champion_list = {}\n",
    "for term in index_elimination_model.keys():\n",
    "    document_dict = index_elimination_model[term]\n",
    "    sorted_result = {k: v for k, v in sorted(document_dict.items(), key=lambda item: item[1])}\n",
    "    sorted_result = dict(itertools.islice(reversed(sorted_result.items()), champion_size))\n",
    "    champion_list[term] = collections.OrderedDict(sorted(sorted_result.items()))\n",
    "# print(champion_list['بود'])"
   ]
  },
  {
   "cell_type": "markdown",
   "id": "genetic-registration",
   "metadata": {},
   "source": [
    "### File Writting"
   ]
  },
  {
   "cell_type": "code",
   "execution_count": 29,
   "id": "active-horse",
   "metadata": {},
   "outputs": [
    {
     "name": "stdout",
     "output_type": "stream",
     "text": [
      "Wall time: 654 ms\n"
     ]
    }
   ],
   "source": [
    "%%time\n",
    "file = open('stop_words.obj', 'wb') \n",
    "pickle.dump(stop_words, file)\n",
    "file.close()\n",
    "\n",
    "file = open('index_elimination.obj', 'wb') \n",
    "pickle.dump(index_elimination_model, file)\n",
    "file.close()\n",
    "\n",
    "file = open('idf.obj', 'wb') \n",
    "pickle.dump(idf, file)\n",
    "file.close()\n",
    "\n",
    "file = open('doc_vec.obj', 'wb') \n",
    "pickle.dump(doc_vectors, file)\n",
    "file.close()\n",
    "\n",
    "file = open('champion.obj', 'wb') \n",
    "pickle.dump(champion_list, file)\n",
    "file.close()"
   ]
  },
  {
   "cell_type": "markdown",
   "id": "ambient-jewel",
   "metadata": {},
   "source": [
    "### File Reading"
   ]
  },
  {
   "cell_type": "code",
   "execution_count": 7,
   "id": "civilian-cuisine",
   "metadata": {},
   "outputs": [],
   "source": [
    "readed = open('stop_words.obj', 'rb')\n",
    "stop_words = pickle.load(readed)\n",
    "\n",
    "readed = open('index_elimination.obj', 'rb')\n",
    "index_elimination_model = pickle.load(readed)\n",
    "\n",
    "readed = open('idf.obj', 'rb')\n",
    "idf = pickle.load(readed)\n",
    "\n",
    "readed = open('champion.obj', 'rb')\n",
    "champion_list = pickle.load(readed)\n",
    "\n",
    "readed = open('doc_vec.obj', 'rb')\n",
    "doc_vectors = pickle.load(readed)\n"
   ]
  },
  {
   "cell_type": "markdown",
   "id": "hungry-gibraltar",
   "metadata": {},
   "source": [
    "### Query"
   ]
  },
  {
   "cell_type": "code",
   "execution_count": 25,
   "id": "endangered-anime",
   "metadata": {},
   "outputs": [
    {
     "name": "stdout",
     "output_type": "stream",
     "text": [
      "Serach: پلی‌آف لیگ قهرمانان آسیا\n",
      "Wall time: 12.4 s\n"
     ]
    }
   ],
   "source": [
    "%%time\n",
    "query = input(\"Serach: \")\n",
    "query = normalizer.normalize(query)\n",
    "for p in punctuations:\n",
    "    if p in query:\n",
    "        query = query.replace(p, \" \")\n",
    "extracted_tokens = word_tokenize(query)\n",
    "stem_tokens = []\n",
    "for t in extracted_tokens:\n",
    "    stem_tokens.append(stemmer.stem(t))\n",
    "for s in stop_words:\n",
    "    if s in stem_tokens:\n",
    "        for t in stem_tokens:\n",
    "            if t == s:\n",
    "                stem_tokens.remove(t)"
   ]
  },
  {
   "cell_type": "code",
   "execution_count": 26,
   "id": "bacterial-commitment",
   "metadata": {},
   "outputs": [
    {
     "name": "stdout",
     "output_type": "stream",
     "text": [
      "{'پلی\\u200cآف': 1, 'لیگ': 1, 'قهرمان': 1, 'آسیا': 1}\n",
      "Wall time: 98.6 ms\n"
     ]
    }
   ],
   "source": [
    "%%time\n",
    "query_frq = {}\n",
    "for t in stem_tokens:\n",
    "    query_frq[t] = query_frq.get(t, 0) + 1\n",
    "print(query_frq)"
   ]
  },
  {
   "cell_type": "markdown",
   "id": "bound-edinburgh",
   "metadata": {},
   "source": [
    "# Similarity"
   ]
  },
  {
   "cell_type": "markdown",
   "id": "muslim-credits",
   "metadata": {},
   "source": [
    "### No Champion List Results"
   ]
  },
  {
   "cell_type": "code",
   "execution_count": null,
   "id": "understood-oregon",
   "metadata": {},
   "outputs": [],
   "source": [
    "result = {}\n",
    "\n",
    "for term in query_frq.keys():\n",
    "    wq = 1+math.log(query_frq[term], 10)\n",
    "    for doc in index_elimination_model[term].keys():\n",
    "        doc_tf = index_elimination_model[term].get(doc, 0)\n",
    "        wd = (1+math.log(doc_tf, 10))*(idf[term])\n",
    "        result[doc] = result.get(doc, 0) + (wd*wq)\n",
    "        \n",
    "for doc in result.keys():\n",
    "    l2_length = 0\n",
    "    for t in doc_vectors[doc].values():\n",
    "        l2_length += (1+math.log(t, 10))**2\n",
    "    l2_length = math.sqrt(l2_length)\n",
    "    result[doc] = result.get(doc, 0)/l2_length\n",
    "print(result)"
   ]
  },
  {
   "cell_type": "markdown",
   "id": "median-premiere",
   "metadata": {},
   "source": [
    "### Champion List Results"
   ]
  },
  {
   "cell_type": "code",
   "execution_count": null,
   "id": "threaded-adrian",
   "metadata": {},
   "outputs": [],
   "source": [
    "%%time\n",
    "\n",
    "result = {}\n",
    "\n",
    "for term in query_frq.keys():\n",
    "    wq = 1+math.log(query_frq[term], 10)\n",
    "    for doc in champion_list[term].keys():\n",
    "        doc_tf = index_elimination_model[term].get(doc, 0)\n",
    "        wd = (1+math.log(doc_tf, 10))*(idf[term])\n",
    "        result[doc] = result.get(doc, 0) + (wd*wq)\n",
    "        \n",
    "for doc in result.keys():\n",
    "    l2_length = 0\n",
    "    for t in doc_vectors[doc].values():\n",
    "        l2_length += (1+math.log(t, 10))**2\n",
    "    l2_length = math.sqrt(l2_length)\n",
    "    result[doc] = result.get(doc, 0)/l2_length\n",
    "print(result)"
   ]
  },
  {
   "cell_type": "markdown",
   "id": "executed-fundamental",
   "metadata": {},
   "source": [
    "# Results"
   ]
  },
  {
   "cell_type": "code",
   "execution_count": 28,
   "id": "weekly-alabama",
   "metadata": {},
   "outputs": [],
   "source": [
    "K = 50"
   ]
  },
  {
   "cell_type": "markdown",
   "id": "controlling-assessment",
   "metadata": {},
   "source": [
    "### Normal Sort"
   ]
  },
  {
   "cell_type": "code",
   "execution_count": 13,
   "id": "leading-russian",
   "metadata": {},
   "outputs": [
    {
     "name": "stdout",
     "output_type": "stream",
     "text": [
      "Document 4514 :\n",
      "https://www.isna.ir/news/98022915417/عرضه-آخرین-دستاوردهای-استارتاپ-های-حوزه-اقتصاد-دیجیتال-در-نمایشگاه\n",
      "____________________________________________\n",
      "Document 6641 :\n",
      "https://www.isna.ir/news/98030200713/برگزاری-پاویون-شرکت-های-دانش-بنیان-در-دو-نمایشگاه-حوزه-سلامت\n",
      "____________________________________________\n",
      "Document 6637 :\n",
      "https://www.isna.ir/news/98030200713/برگزاری-پاویون-شرکت-های-دانش-بنیان-در-دو-نمایشگاه-حوزه-سلامت\n",
      "____________________________________________\n",
      "Document 6635 :\n",
      "https://www.isna.ir/news/98030200713/برگزاری-پاویون-شرکت-های-دانش-بنیان-در-دو-نمایشگاه-حوزه-سلامت\n",
      "____________________________________________\n",
      "Document 4528 :\n",
      "https://www.isna.ir/news/98030200713/برگزاری-پاویون-شرکت-های-دانش-بنیان-در-دو-نمایشگاه-حوزه-سلامت\n",
      "____________________________________________\n",
      "Document 672 :\n",
      "https://www.isna.ir/news/99082013716/صاحب-سوت-طلایی-فیلا-درگذشت\n",
      "____________________________________________\n",
      "Document 3374 :\n",
      "https://www.isna.ir/news/99022417557/برپایی-پاویون-شرکت-های-دانش-بنیان-در-نمایشگاه-بورس-بانک\n",
      "____________________________________________\n",
      "Document 3989 :\n",
      "https://www.isna.ir/news/99091410749/حضور-۲۰-استارت-آپ-ایرانی-در-نمایشگاه-دوبی\n",
      "____________________________________________\n",
      "Document 4010 :\n",
      "https://www.isna.ir/news/99092216933/نمایشگاه-ها-دوباره-برگزار-می-شوند\n",
      "____________________________________________\n",
      "Document 2628 :\n",
      "https://www.isna.ir/news/98030100586/سفر-برجامی-هیأتی-از-وزارت-خارجه-آلمان-به-ایران\n",
      "____________________________________________\n",
      "Document 2954 :\n",
      "https://www.isna.ir/news/98080804146/یک-نمایشگاه-عکس-برای-آزادی-زندانیان-مالی\n",
      "____________________________________________\n",
      "Document 2475 :\n",
      "https://www.isna.ir/news/99120301918/دیدار-مدیرکل-آژانس-بین-المللی-انرژی-اتمی-با-ظریف\n",
      "____________________________________________\n",
      "Document 4691 :\n",
      "https://www.isna.ir/news/98042110759/سهم-55-درصدی-ترکیه-از-درآمد-صنعت-چاپ-در-خاورمیانه\n",
      "____________________________________________\n",
      "Document 831 :\n",
      "https://www.isna.ir/news/99102015020/اعزام-دوومیدانی-کاران-معلول-و-نابینا-و-کم-بینا-به-مسابقات-بین\n",
      "____________________________________________\n",
      "Document 4155 :\n",
      "https://www.isna.ir/news/99110301584/آغاز-بیست-وپنجمین-نمایشگاه-نفت-گاز-پالایش-و-پتروشیمی\n",
      "____________________________________________\n",
      "Document 3988 :\n",
      "https://www.isna.ir/news/99091209658/بررسی-فناوری-های-نسل-آتی-مخابراتی-در-سمپوزیوم-بین-المللی-پژوهشگاه\n",
      "____________________________________________\n",
      "Document 4926 :\n",
      "https://www.isna.ir/news/98062411485/برگزاری-بزرگترین-نمایشگاه-بین-المللی-دریایی-ایران-در-بندرعباس\n",
      "____________________________________________\n",
      "Document 1034 :\n",
      "https://www.isna.ir/news/99122922295/پرتابگر-کم-بینا-به-مدال-برنز-مسابقات-بین-المللی-تونس-دست-یافت\n",
      "____________________________________________\n",
      "Document 3339 :\n",
      "https://www.isna.ir/news/99021611490/نمایشگاه-اینوتکس-۲۰۲۰-مرداد-را-آنلاین-دنبال-کنید\n",
      "____________________________________________\n",
      "Document 2556 :\n",
      "https://www.isna.ir/news/98012812696/ورود-شهردار-تهران-به-عراق\n",
      "____________________________________________\n",
      "Document 2370 :\n",
      "https://www.isna.ir/news/99101007934/افتتاح-نمایشگاهی-به-یاد-شهید-سلیمانی-در-تهران\n",
      "____________________________________________\n",
      "Document 4820 :\n",
      "https://www.isna.ir/news/98052612739/کمیسیون-کشاورزی-مجلس-از-نمایشگاه-توانمندی-های-روستایی-و-عشایری\n",
      "____________________________________________\n",
      "Document 2810 :\n",
      "https://www.isna.ir/news/98052612739/کمیسیون-کشاورزی-مجلس-از-نمایشگاه-توانمندی-های-روستایی-و-عشایری\n",
      "____________________________________________\n",
      "Document 2842 :\n",
      "https://www.isna.ir/news/98060904712/عراقچی-فردا-به-کمیسیون-امنیت-ملی-مجلس-می-رود\n",
      "____________________________________________\n",
      "Document 1209 :\n",
      "https://www.isna.ir/news/98041809585/افتتاح-هجدهمین-نمایشگاه-ورزش-و-تجهیزات-ورزشی\n",
      "____________________________________________\n",
      "Document 4231 :\n",
      "https://www.isna.ir/news/99120100308/نمایشگاه-تلکام-با-حضور-۱۰۰-شرکت-داخلی-برگزار-می-شود\n",
      "____________________________________________\n",
      "Document 6920 :\n",
      "https://www.isna.ir/news/98081206741/دومین-کنگره-اروپایی-آسیایی-فارماکواپیدمیولوژی-برگزار-می-شود\n",
      "____________________________________________\n",
      "Document 3742 :\n",
      "https://www.isna.ir/news/99061108076/کرونا-چند-درصد-از-صادرات-ایران-را-کم-کرد-مرزها-باز-هستند\n",
      "____________________________________________\n",
      "Document 1842 :\n",
      "https://www.isna.ir/news/99031911937/بازگشت-جمعی-از-ایرانیان-مقیم-قزاقستان-با-پرواز-فوق-العاده-به\n",
      "____________________________________________\n",
      "Document 2586 :\n",
      "https://www.isna.ir/news/98021005653/رئیس-قوه-قضاییه-نمایشگاه-کتاب-نمادی-از-فرهنگی-بودن-کشور-ما\n",
      "____________________________________________\n",
      "Document 2705 :\n",
      "https://www.isna.ir/news/98041407046/میراث-باستان-شناسی-شرق-اسپانیا-به-ایران-می-آید\n",
      "____________________________________________\n",
      "Document 1565 :\n",
      "https://www.isna.ir/news/98101612445/مجوز-حضور-۱۲-آزادکار-دیگر-در-جام-تختی\n",
      "____________________________________________\n",
      "Document 2431 :\n",
      "https://www.isna.ir/news/99111309859/بازدید-اعضای-کمیسیون-آموزش-از-پارک-علم-و-فناوری-پردیس\n",
      "____________________________________________\n",
      "Document 824 :\n",
      "https://www.isna.ir/news/99101713214/حضور-۹-اسکی-باز-معلول-در-مسابقات-بین-المللی-اسنوبرد\n",
      "____________________________________________\n",
      "Document 1257 :\n",
      "https://www.isna.ir/news/98051005077/توماس-باخ-در-آینده-ای-نزدیک-به-ایران-سفر-می-کند\n",
      "____________________________________________\n",
      "Document 4472 :\n",
      "https://www.isna.ir/news/98021810067/پراندن-مشتری-های-سنگ-در-اصفهان\n",
      "____________________________________________\n",
      "Document 2575 :\n",
      "https://www.isna.ir/news/98020703530/کتابی-درباره-اجرای-قصاص-منتشر-شد\n",
      "____________________________________________\n",
      "Document 1902 :\n",
      "https://www.isna.ir/news/99041914341/ایران-نه-موضوعی-برای-پنهان-کردن-دارد-و-نه-دلیلی-برای-عدم-همکاری\n",
      "____________________________________________\n",
      "Document 1531 :\n",
      "https://www.isna.ir/news/98100302340/پاسخ-IOC-درباره-طلای-کمیل-قاسمی-در-المپیک-لندن\n",
      "____________________________________________\n",
      "Document 23 :\n",
      "https://www.isna.ir/news/99010904287/المپیک-پاریس-عقب-نمی-افتد\n",
      "____________________________________________\n",
      "Document 6161 :\n",
      "https://www.isna.ir/news/99081207758/برگزاری-پنجمین-کنگره-بین-المللی-و-هفتمین-کنگره-ملی-زخم-و-ترمیم\n",
      "____________________________________________\n",
      "Document 6157 :\n",
      "https://www.isna.ir/news/99081207758/برگزاری-پنجمین-کنگره-بین-المللی-و-هفتمین-کنگره-ملی-زخم-و-ترمیم\n",
      "____________________________________________\n",
      "Document 4215 :\n",
      "https://www.isna.ir/news/99112619164/برگزاری-یک-نمایشگاه-سه-ماهه-در-ایران\n",
      "____________________________________________\n",
      "Document 4785 :\n",
      "https://www.isna.ir/news/98051507751/رونمایی-از-بزرگترین-فرش-دستباف-یکپارچه-جهان-در-تبریز\n",
      "____________________________________________\n",
      "Document 61 :\n",
      "https://www.isna.ir/news/99012716133/اعلام-تاریخ-برگزاری-مسابقات-جهانی-دانشجویان-در-سال-۲۰۲۱\n",
      "____________________________________________\n",
      "Document 2453 :\n",
      "https://www.isna.ir/news/99112619483/وزیر-خارجه-به-دلیل-کسالت-در-جلسه-کمیسیون-امنیت-ملی-مجلس-حاضر\n",
      "____________________________________________\n",
      "Document 1850 :\n",
      "https://www.isna.ir/news/99032113588/نوش-آبادی-رئیس-فراکسیون-دیپلماسی-بین-المللی-و-منافع-ملی-شد\n",
      "____________________________________________\n",
      "Document 5544 :\n",
      "https://www.isna.ir/news/99021309345/اختصاص-پرواز-برای-بازگشت-ایرانیان-از-وین-به-تهران\n",
      "____________________________________________\n",
      "Document 1792 :\n",
      "https://www.isna.ir/news/99021309345/اختصاص-پرواز-برای-بازگشت-ایرانیان-از-وین-به-تهران\n",
      "____________________________________________\n",
      "Document 3690 :\n",
      "https://www.isna.ir/news/99052518161/الکامپ-به-تعویق-افتاد\n",
      "____________________________________________\n"
     ]
    }
   ],
   "source": [
    "xlsx_file = Path('../IR_Spring2021_ph12_7k.xlsx')\n",
    "wb_obj = openpyxl.load_workbook(xlsx_file)\n",
    "sheet = wb_obj.active\n",
    "sorted_result = {k: v for k, v in sorted(result.items(), key=lambda item: item[1])}\n",
    "sorted_result = dict(itertools.islice(reversed(sorted_result.items()), K))\n",
    "for doc in sorted_result.keys():\n",
    "    for row in sheet.iter_rows():\n",
    "        if row[0].value == 'id':\n",
    "            continue\n",
    "        if int(row[0].value) == doc:\n",
    "            print(f\"Document {doc} :\\n{row[2].value}\", end='\\n____________________________________________\\n')\n"
   ]
  },
  {
   "cell_type": "markdown",
   "id": "hidden-baltimore",
   "metadata": {},
   "source": [
    "### Heap"
   ]
  },
  {
   "cell_type": "code",
   "execution_count": 29,
   "id": "faced-adventure",
   "metadata": {},
   "outputs": [
    {
     "name": "stdout",
     "output_type": "stream",
     "text": [
      "[1596, 632, 394, 154, 1583, 1012, 667, 1584, 1584, 1048, 832, 1020, 1244, 103, 615, 156, 1654, 1094, 1597, 1495, 1640, 1095, 873, 47, 73, 1672, 321, 318, 1119, 1021, 357, 102, 269, 973, 1619, 66, 1329, 312, 399, 1703, 287, 444, 98, 98, 1595, 306, 1192, 497, 1324, 494]\n",
      "Wall time: 262 ms\n"
     ]
    }
   ],
   "source": [
    "%%time\n",
    "import heapq as hq\n",
    "# List to hold values from dictionary\n",
    "heap_dict=[]\n",
    "\n",
    "# extract the values from dictionary\n",
    "for i in result.values():\n",
    "    heap_dict.append(i)\n",
    "    \n",
    "# heapify the values\n",
    "hq._heapify_max(heap_dict)   \n",
    "\n",
    "sorted_result = []\n",
    "while len(sorted_result) < K:\n",
    "    value = hq._heappop_max(heap_dict)\n",
    "    for key,val in result.items():\n",
    "        if value == val:\n",
    "            sorted_result.append(key)\n",
    "            break\n",
    "              \n",
    "print(sorted_result)"
   ]
  },
  {
   "cell_type": "code",
   "execution_count": 30,
   "id": "micro-jewel",
   "metadata": {},
   "outputs": [
    {
     "name": "stdout",
     "output_type": "stream",
     "text": [
      "Document 1596 :\n",
      "https://www.isna.ir/news/98110100757/مدیران-۴-تیم-آسیایی-ایران-پنجشنبه-با-دبیرکل-AFC-دیدار-می-کنند\n",
      "____________________________________________\n",
      "Document 632 :\n",
      "https://www.isna.ir/news/99080704492/رویارویی-قهرمانان-سابق-لیگ-برتر-فوتبال-در-دیداری-تدارکاتی\n",
      "____________________________________________\n",
      "Document 394 :\n",
      "https://www.isna.ir/news/99053022911/نکونام-بر-دستان-بازیکنان-فولاد\n",
      "____________________________________________\n",
      "Document 154 :\n",
      "https://www.isna.ir/news/99030904913/نظر-موافق-سرمربی-تیم-ملی-فوتسال-با-حذف-پلی-آف-لیگ-برتر\n",
      "____________________________________________\n",
      "Document 1583 :\n",
      "https://www.isna.ir/news/98102720937/جزییات-تصمیم-کمیته-مسابقات-AFC-درباره-ایران-بازی-در-زمین-بی-طرف\n",
      "____________________________________________\n",
      "Document 1012 :\n",
      "https://www.isna.ir/news/99121713154/مجوز-حضور-جودوی-ایران-در-قهرمانی-آسیا-صادر-شد\n",
      "____________________________________________\n",
      "Document 667 :\n",
      "https://www.isna.ir/news/99081912504/رادوشوویچ-امروز-در-محل-تمرین-پرسپولیس-حاضر-شد\n",
      "____________________________________________\n",
      "Document 1584 :\n",
      "https://www.isna.ir/news/98102821871/محرومیت-ایران-از-میزبانی-لیگ-قهرمانان-آسیا-در-فراکسیون-ورزش\n",
      "____________________________________________\n",
      "Document 1584 :\n",
      "https://www.isna.ir/news/98102821871/محرومیت-ایران-از-میزبانی-لیگ-قهرمانان-آسیا-در-فراکسیون-ورزش\n",
      "____________________________________________\n",
      "Document 1048 :\n",
      "https://www.isna.ir/news/98011504568/شیری-حق-اشتباه-نداریم-زیرا-قهرمانی-از-دست-می-رود\n",
      "____________________________________________\n",
      "Document 832 :\n",
      "https://www.isna.ir/news/99102014982/فوتسال-قهرمانی-آسیا-برنامه-های-لیگ-برتر-را-تغییر-داد\n",
      "____________________________________________\n",
      "Document 1020 :\n",
      "https://www.isna.ir/news/99122116397/اعتراض-رسمی-ایران-به-میزبانی-عربستان-در-لیگ-قهرمانان-آسیا\n",
      "____________________________________________\n",
      "Document 1244 :\n",
      "https://www.isna.ir/news/98050804375/شکست-ذوب-آهن-برابر-فولاد-در-دیداری-دوستانه\n",
      "____________________________________________\n",
      "Document 103 :\n",
      "https://www.isna.ir/news/99022618595/پیشنهاد-ناظم-الشریعه-برگزاری-اردوی-تیم-ملی-فوتسال-در-تعطیلات\n",
      "____________________________________________\n",
      "Document 615 :\n",
      "https://www.isna.ir/news/99080200809/تیم-ملی-فوتسال-تا-پایان-لیگ-اردو-نمی-زند\n",
      "____________________________________________\n",
      "Document 156 :\n",
      "https://www.isna.ir/news/99030804610/مشخص-شدن-زمان-لیگ-برتر-فوتسال-بعد-از-تعیین-تکلیف-فوتسال-قهرمانی\n",
      "____________________________________________\n",
      "Document 1654 :\n",
      "https://www.isna.ir/news/98120302190/احتمال-دعوت-از-نفرات-جدید-به-اردوی-تیم-ملی-فوتسال\n",
      "____________________________________________\n",
      "Document 1094 :\n",
      "https://www.isna.ir/news/98021508090/عملکرد-قابل-قبول-دختران-پینگ-پنگ-باز-ایران-در-لیگ-ترکیه\n",
      "____________________________________________\n",
      "Document 1597 :\n",
      "https://www.isna.ir/news/98110302231/بیانیه-AFC-درباره-جلسه-مدیران-۴-باشگاه-ایرانی-با-ویندزور-جان\n",
      "____________________________________________\n",
      "Document 1495 :\n",
      "https://www.isna.ir/news/98091712850/قهرمانی-یخ-نورد-ایران-در-مسابقات-روسیه\n",
      "____________________________________________\n",
      "Document 1640 :\n",
      "https://www.isna.ir/news/98112719763/زمان-نشست-خبری-سرمربیان-السد-و-سپاهان-مشخص-شد\n",
      "____________________________________________\n",
      "Document 1095 :\n",
      "https://www.isna.ir/news/98021709358/پرداخت-۵۰۰-هزار-یورویی-پرسپولیس-به-برانکو\n",
      "____________________________________________\n",
      "Document 873 :\n",
      "https://www.isna.ir/news/99110201452/تاریخ-برگزاری-مسابقات-هندبال-قهرمانی-زنان-آسیا-مشخص-شد\n",
      "____________________________________________\n",
      "Document 47 :\n",
      "https://www.isna.ir/news/99011910734/تقویم-۲۰۲۰-فدراسیون-جهانی-کاراته-منتشر-شد\n",
      "____________________________________________\n",
      "Document 73 :\n",
      "https://www.isna.ir/news/99020503151/اصغری-مقدم-علاقمند-به-ادامه-همکاری-با-سن-ایچ-هستم-حذف-پلی-آف\n",
      "____________________________________________\n",
      "Document 1672 :\n",
      "https://www.isna.ir/news/98121209875/گام-ما-به-سمت-قهرمانی-است\n",
      "____________________________________________\n",
      "Document 321 :\n",
      "https://www.isna.ir/news/99050402248/تیم-شانزدهم-لیگ-برتر-فوتسال-چه-تیمی-است\n",
      "____________________________________________\n",
      "Document 318 :\n",
      "https://www.isna.ir/news/99050301670/مهاجم-فولاد-در-آستانه-شکستن-رکورد-ادینهو-شیمبا-بهترین-گلزن-خارجی\n",
      "____________________________________________\n",
      "Document 1119 :\n",
      "https://www.isna.ir/news/98022714229/ترکیب-کوراش-ایران-در-رقابت-های-جوانان-آسیا\n",
      "____________________________________________\n",
      "Document 1021 :\n",
      "https://www.isna.ir/news/99122216822/حذف-تعلیق-از-جلوی-نام-ایران-در-سایت-فدراسیون-جهانی-جودو-عکس\n",
      "____________________________________________\n",
      "Document 357 :\n",
      "https://www.isna.ir/news/99051914127/مسابقات-هندبال-آسیا-به-سال-۲۰۲۱-موکول-شد\n",
      "____________________________________________\n",
      "Document 102 :\n",
      "https://www.isna.ir/news/99022618733/تاریخ-جدید-مسابقات-هندبال-نوجوانان-آسیا-اعلام-شد\n",
      "____________________________________________\n",
      "Document 269 :\n",
      "https://www.isna.ir/news/99041611866/آزمون-قهرمانی-پیاپی-در-لیگ-مزه-دیگری-دارد\n",
      "____________________________________________\n",
      "Document 973 :\n",
      "https://www.isna.ir/news/99120402791/لغو-مسابقات-انتخابی-هندبال-جوانان-و-نوجوانان-جهان\n",
      "____________________________________________\n",
      "Document 1619 :\n",
      "https://www.isna.ir/news/98111914013/میزبانی-کیش-از-سه-رویداد-بین-المللی-تکواندو\n",
      "____________________________________________\n",
      "Document 66 :\n",
      "https://www.isna.ir/news/99012816530/کرونا-فرصتی-برای-تغییر-زمان-لیگ-ایران\n",
      "____________________________________________\n",
      "Document 1329 :\n",
      "https://www.isna.ir/news/98061307119/معرفی-رقبای-احسان-حدادی-در-فینال-دایموند-لیگ\n",
      "____________________________________________\n",
      "Document 312 :\n",
      "https://www.isna.ir/news/99043022449/جلسه-کادر-فنی-تیم-ملی-فوتسال-برای-برگزاری-بازی-دوستانه-و-لیگ\n",
      "____________________________________________\n",
      "Document 399 :\n",
      "https://www.isna.ir/news/99060302879/سه-ضلعی-موفق-فولادی-ها-تکمیل-می-شود\n",
      "____________________________________________\n",
      "Document 1703 :\n",
      "https://www.isna.ir/news/98122015156/لغو-میزبانی-ایران-از-۳-رویداد-بین-المللی-تکواندو-بدلیل-کرونا\n",
      "____________________________________________\n",
      "Document 287 :\n",
      "https://www.isna.ir/news/99042317322/احتمال-حضور-استقلال-در-لیگ-برتر-فوتسال-زیاد-شد\n",
      "____________________________________________\n",
      "Document 444 :\n",
      "https://www.isna.ir/news/99061511089/۲-روز-تا-تعیین-سرنوشت-تیم-های-نفتی-خوزستان\n",
      "____________________________________________\n",
      "Document 98 :\n",
      "https://www.isna.ir/news/99022418003/انتخاب-کادر-فنی-هندبال-ساحلی\n",
      "____________________________________________\n",
      "Document 98 :\n",
      "https://www.isna.ir/news/99022418003/انتخاب-کادر-فنی-هندبال-ساحلی\n",
      "____________________________________________\n",
      "Document 1595 :\n",
      "https://www.isna.ir/news/98110100846/آب-پاکی-AFC-روی-دست-ایران-خواسته-باشگاه-ها-رد-شد\n",
      "____________________________________________\n",
      "Document 306 :\n",
      "https://www.isna.ir/news/99042820740/مس-و-شاملی-دو-نماینده-هندبال-ایران-در-جام-باشگاه-های-آسیا\n",
      "____________________________________________\n",
      "Document 1192 :\n",
      "https://www.isna.ir/news/98040804142/ترکیب-تیم-ملی-کاراته-ایران-در-رقابت-های-قهرمانی-آسیا-مشخص-شد\n",
      "____________________________________________\n",
      "Document 497 :\n",
      "https://www.isna.ir/news/99070100588/زمان-برگزاری-اردوی-تیم-ملی-فوتسال-برای-بازی-با-ازبکستان\n",
      "____________________________________________\n",
      "Document 1324 :\n",
      "https://www.isna.ir/news/98061005265/هادی-حبیبی-سرمربی-تیم-کشتی-دانشگاه-آزاد-شد\n",
      "____________________________________________\n",
      "Document 494 :\n",
      "https://www.isna.ir/news/99063023166/شروع-کار-فولاد-برای-لیگ-بیستم-بدون-خارجی-ها\n",
      "____________________________________________\n"
     ]
    }
   ],
   "source": [
    "xlsx_file = Path('../IR_Spring2021_ph12_7k.xlsx')\n",
    "wb_obj = openpyxl.load_workbook(xlsx_file)\n",
    "sheet = wb_obj.active\n",
    "for doc in sorted_result:\n",
    "    for row in sheet.iter_rows():\n",
    "        if row[0].value == 'id':\n",
    "            continue\n",
    "        if int(row[0].value) == doc:\n",
    "            print(f\"Document {doc} :\\n{row[2].value}\", end='\\n____________________________________________\\n')\n",
    "#             print(doc)"
   ]
  },
  {
   "cell_type": "code",
   "execution_count": null,
   "id": "floating-potter",
   "metadata": {},
   "outputs": [],
   "source": []
  }
 ],
 "metadata": {
  "kernelspec": {
   "display_name": "Python 3 (ipykernel)",
   "language": "python",
   "name": "python3"
  },
  "language_info": {
   "codemirror_mode": {
    "name": "ipython",
    "version": 3
   },
   "file_extension": ".py",
   "mimetype": "text/x-python",
   "name": "python",
   "nbconvert_exporter": "python",
   "pygments_lexer": "ipython3",
   "version": "3.10.4"
  }
 },
 "nbformat": 4,
 "nbformat_minor": 5
}

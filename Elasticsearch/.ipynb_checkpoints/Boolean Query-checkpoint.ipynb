{
 "cells": [
  {
   "cell_type": "markdown",
   "metadata": {
    "id": "-MYmYmnT6vWM"
   },
   "source": [
    "# Boolean Query\n"
   ]
  },
  {
   "cell_type": "code",
   "execution_count": null,
   "metadata": {
    "id": "e1Ld-wPi9eXy"
   },
   "outputs": [],
   "source": [
    "!pip install elasticsearch"
   ]
  },
  {
   "cell_type": "code",
   "execution_count": null,
   "metadata": {
    "id": "zz8PVXZwOTKg"
   },
   "outputs": [],
   "source": [
    "from elasticsearch import Elasticsearch, helpers\n",
    "import os, json, time\n",
    "from datetime import datetime\n",
    "from tqdm import tqdm "
   ]
  },
  {
   "cell_type": "code",
   "execution_count": null,
   "metadata": {
    "id": "BsAE99xuOTKj"
   },
   "outputs": [],
   "source": [
    "import warnings\n",
    "warnings.filterwarnings('ignore')"
   ]
  },
  {
   "cell_type": "markdown",
   "metadata": {
    "id": "zwRjta2P85gJ"
   },
   "source": [
    "## Load Processed Data"
   ]
  },
  {
   "cell_type": "code",
   "execution_count": null,
   "metadata": {
    "colab": {
     "base_uri": "https://localhost:8080/"
    },
    "id": "SZ38UddzOTKm",
    "outputId": "f8f848e7-58bd-4eae-fd63-fa29ca131044"
   },
   "outputs": [
    {
     "name": "stdout",
     "output_type": "stream",
     "text": [
      "dict_keys(['title', 'content', 'tags', 'date', 'url', 'category'])\n"
     ]
    }
   ],
   "source": [
    "import json\n",
    "dataset_path = 'IR_data_news_12k.json'\n",
    "with open(dataset_path) as f:\n",
    "    data = json.load(f)\n",
    "print(data['0'].keys())"
   ]
  },
  {
   "cell_type": "markdown",
   "metadata": {
    "id": "34HO2cmPOTKo"
   },
   "source": [
    "## Connect to the Elasticsearch Cluster and Create an Index\n"
   ]
  },
  {
   "cell_type": "code",
   "execution_count": null,
   "metadata": {
    "colab": {
     "base_uri": "https://localhost:8080/",
     "height": 363
    },
    "id": "jKxaAaTYOTKq",
    "outputId": "024fb7a3-4ae3-4e59-d6bf-83c6e33f6ed1"
   },
   "outputs": [
    {
     "data": {
      "text/plain": [
       "ObjectApiResponse({'acknowledged': True, 'shards_acknowledged': True, 'index': 'my_index_name'})"
      ]
     },
     "execution_count": 10,
     "metadata": {},
     "output_type": "execute_result"
    }
   ],
   "source": [
    "index_name = 'my_index_name'\n",
    "es = Elasticsearch(\"http://localhost:9200\")\n",
    "es.indices.create(index = index_name)"
   ]
  },
  {
   "cell_type": "markdown",
   "metadata": {
    "id": "e66-ij1FesoG"
   },
   "source": [
    "### Check the Cluster Status"
   ]
  },
  {
   "cell_type": "code",
   "execution_count": null,
   "metadata": {
    "id": "wzH4AbnGOTKs",
    "outputId": "877d9381-c81e-4dee-fe5f-b2971fe6745a"
   },
   "outputs": [],
   "source": [
    "dict(es.info())"
   ]
  },
  {
   "cell_type": "markdown",
   "metadata": {
    "id": "ii1UFLeqesoH"
   },
   "source": [
    "## Indexing Documents "
   ]
  },
  {
   "cell_type": "code",
   "execution_count": null,
   "metadata": {
    "id": "E81WiFk2OTKz",
    "outputId": "f8674f29-7f49-4e6d-f7b7-435c4586b75f"
   },
   "outputs": [
    {
     "name": "stderr",
     "output_type": "stream",
     "text": [
      "100%|█████████████████████████████████████| 12202/12202 [03:41<00:00, 55.02it/s]\n"
     ]
    }
   ],
   "source": [
    "for i in tqdm(range(len(data))):\n",
    "    es.index(index = index_name, id=i, document=data[str(i)])\n",
    "    i = i + 1"
   ]
  },
  {
   "cell_type": "markdown",
   "metadata": {
    "id": "hiv35Uj3OTK2"
   },
   "source": [
    "###  Bulk API"
   ]
  },
  {
   "cell_type": "code",
   "execution_count": null,
   "metadata": {
    "id": "qt1XZ-BaOTK4"
   },
   "outputs": [],
   "source": [
    "from elasticsearch.helpers import bulk\n",
    "\n",
    "def bulk_sync():\n",
    "    actions = [\n",
    "        {\n",
    "            '_index': 'ta3_index',\n",
    "            '_id':doc_id,\n",
    "            '_source': doc\n",
    "        } for doc_id,doc in data.items()\n",
    "    ]\n",
    "    bulk(es, actions)\n"
   ]
  },
  {
   "cell_type": "code",
   "execution_count": null,
   "metadata": {
    "id": "QUuoIuvlOTK5",
    "outputId": "6a47349b-95df-4bc9-8727-d234d972ba71"
   },
   "outputs": [
    {
     "name": "stdout",
     "output_type": "stream",
     "text": [
      "Indexing all documents took about 5.69 seconds\n"
     ]
    }
   ],
   "source": [
    "start = time.time()\n",
    "bulk_sync()\n",
    "end = time.time()\n",
    "print(\"Indexing all documents took about {:.2f} seconds\".format(end - start))"
   ]
  },
  {
   "cell_type": "markdown",
   "metadata": {
    "id": "mHIPOwW1OTK7"
   },
   "source": [
    "### check index"
   ]
  },
  {
   "cell_type": "code",
   "execution_count": null,
   "metadata": {
    "id": "hg8OYRf_OTK8",
    "outputId": "259e5c05-4b2e-40c6-8c9f-6aa9b41f4563"
   },
   "outputs": [
    {
     "data": {
      "text/plain": [
       "ObjectApiResponse({'count': 12202, '_shards': {'total': 1, 'successful': 1, 'skipped': 0, 'failed': 0}})"
      ]
     },
     "execution_count": 19,
     "metadata": {},
     "output_type": "execute_result"
    }
   ],
   "source": [
    "es.count(index = index_name)"
   ]
  },
  {
   "cell_type": "markdown",
   "metadata": {
    "id": "9PDnW1SnOTK-"
   },
   "source": [
    "## Boolean Retrieval "
   ]
  },
  {
   "cell_type": "code",
   "execution_count": null,
   "metadata": {
    "id": "G6XYVxrjOTK_"
   },
   "outputs": [],
   "source": [
    "# sample query: تحریم هسته‌ای ً آمریکا !ایران\n",
    "query= {\n",
    "        \"bool\": {\n",
    "          \"should\": [\n",
    "              { \n",
    "                \"match\": {\n",
    "                  \"content\": {\n",
    "                    \"query\": \"\", # add query word \n",
    "                  }\n",
    "                }\n",
    "              }, \n",
    "              \n",
    "              { \n",
    "                \"match_phrase\":{\n",
    "                  \"content\":{\n",
    "                    \"query\":\"\", # add query word \n",
    "                  }\n",
    "                }  \n",
    "              },\n",
    "          ],\n",
    "          \"must_not\": [\n",
    "              {\n",
    "                \"match\": {\n",
    "                  \"content\": {\n",
    "                    \"query\": \"\", # add query word \n",
    "                  }\n",
    "                }\n",
    "              }\n",
    "          ],\n",
    "        },\n",
    "    }"
   ]
  },
  {
   "cell_type": "markdown",
   "metadata": {
    "id": "GqR7SLBVOTLC"
   },
   "source": [
    "### Search query\n"
   ]
  },
  {
   "cell_type": "code",
   "execution_count": null,
   "metadata": {
    "id": "SSrpYB5JOTLC"
   },
   "outputs": [],
   "source": [
    "res = es.search(index = index_name, query=query, _source= [\"url\"])\n",
    "res = dict(res)"
   ]
  },
  {
   "cell_type": "markdown",
   "metadata": {
    "id": "nkHMGaXfOTLD"
   },
   "source": [
    "### Results"
   ]
  },
  {
   "cell_type": "code",
   "execution_count": null,
   "metadata": {
    "id": "g3sPDdpROTLE",
    "scrolled": true
   },
   "outputs": [],
   "source": [
    "print(\"{} results in {} s: \".format(res['hits']['total']['value'] ,res['took']/1000))\n",
    "for doc in res['hits']['hits']:\n",
    "    print(doc['_source']['url'])"
   ]
  }
 ],
 "metadata": {
  "colab": {
   "collapsed_sections": [],
   "provenance": []
  },
  "kernelspec": {
   "display_name": "Python 3 (ipykernel)",
   "language": "python",
   "name": "python3"
  },
  "language_info": {
   "codemirror_mode": {
    "name": "ipython",
    "version": 3
   },
   "file_extension": ".py",
   "mimetype": "text/x-python",
   "name": "python",
   "nbconvert_exporter": "python",
   "pygments_lexer": "ipython3",
   "version": "3.10.4"
  }
 },
 "nbformat": 4,
 "nbformat_minor": 4
}

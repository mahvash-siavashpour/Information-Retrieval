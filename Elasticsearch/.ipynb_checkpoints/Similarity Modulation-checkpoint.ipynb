{
 "cells": [
  {
   "cell_type": "code",
   "execution_count": null,
   "metadata": {
    "id": "BrwsaVsj5ubv"
   },
   "outputs": [],
   "source": [
    "import json\n",
    "\n",
    "with open('IR_data_news_12k.json') as f:\n",
    "    data = json.load(f)"
   ]
  },
  {
   "cell_type": "code",
   "execution_count": null,
   "metadata": {
    "id": "y4xg-Rhk5ub0"
   },
   "outputs": [],
   "source": [
    "import warnings\n",
    "warnings.filterwarnings('ignore')"
   ]
  },
  {
   "cell_type": "code",
   "execution_count": null,
   "metadata": {
    "id": "XDs6hQbv5ub1",
    "outputId": "94331ba2-938f-4f1e-c915-3dd8afa6601a"
   },
   "outputs": [
    {
     "data": {
      "text/plain": [
       "dict_keys(['title', 'content', 'tags', 'date', 'url', 'category'])"
      ]
     },
     "execution_count": 8,
     "metadata": {},
     "output_type": "execute_result"
    }
   ],
   "source": [
    "data['0'].keys()"
   ]
  },
  {
   "cell_type": "code",
   "execution_count": null,
   "metadata": {
    "id": "NdLITDi05ub2"
   },
   "outputs": [],
   "source": [
    "from elasticsearch import Elasticsearch, helpers\n",
    "import os, uuid\n",
    "# import Python's JSON library for its loads() method\n",
    "import json\n",
    "\n",
    "# import time for its sleep method\n",
    "from time import sleep\n",
    "\n",
    "# import the datetime libraries datetime.now() method\n",
    "from datetime import datetime\n",
    "from tqdm import tqdm "
   ]
  },
  {
   "cell_type": "code",
   "execution_count": null,
   "metadata": {
    "id": "_yyuk50M5ub2"
   },
   "outputs": [],
   "source": [
    "es = Elasticsearch(\"http://localhost:9200\")"
   ]
  },
  {
   "cell_type": "code",
   "execution_count": null,
   "metadata": {
    "id": "wHXfN04v5ub3"
   },
   "outputs": [],
   "source": [
    "texts = [\n",
    "    \"مسابقات ایران و روسیه\",\n",
    "    \"ظریف در وین\",\n",
    "    \"اقدامات وزارت بهداشت\"\n",
    "]"
   ]
  },
  {
   "cell_type": "code",
   "execution_count": null,
   "metadata": {
    "id": "bLrPmiVy5ub3"
   },
   "outputs": [],
   "source": [
    "def get_query(text):\n",
    "    body ={\n",
    "    \"query\":{  \n",
    "        \"match\" : {\n",
    "            \"content\" : text\n",
    "\n",
    "            }\n",
    "        }\n",
    "    }\n",
    "    \n",
    "    return body"
   ]
  },
  {
   "cell_type": "markdown",
   "metadata": {
    "id": "fCY5fnsd5ub5"
   },
   "source": [
    "\n",
    "\n",
    "# Create tf-idf Index"
   ]
  },
  {
   "cell_type": "code",
   "execution_count": null,
   "metadata": {
    "id": "jAO61WFi5ub6",
    "outputId": "52f7da55-4e1f-404b-9c29-1644f27aa0af"
   },
   "outputs": [
    {
     "data": {
      "text/plain": [
       "ObjectApiResponse({'acknowledged': True, 'shards_acknowledged': True, 'index': 'tfidf_index'})"
      ]
     },
     "execution_count": 11,
     "metadata": {},
     "output_type": "execute_result"
    }
   ],
   "source": [
    "es.indices.delete(index=\"tfidf_index\")\n",
    "es.indices.create(index=\"tfidf_index\"                    \n",
    "                 \n",
    "                 )"
   ]
  },
  {
   "cell_type": "code",
   "execution_count": null,
   "metadata": {
    "id": "xhA0gQXe5ub7",
    "outputId": "99fc1475-3506-4c32-a426-d710672cd53f"
   },
   "outputs": [
    {
     "name": "stderr",
     "output_type": "stream",
     "text": [
      "100%|█████████████████████████████████████| 12202/12202 [20:23<00:00,  9.97it/s]\n"
     ]
    }
   ],
   "source": [
    "for i in tqdm(range(len(data))):\n",
    "    es.index(index='tfidf_index',\n",
    "        id=i, body=data[str(i)])\n",
    "    i = i + 1"
   ]
  },
  {
   "cell_type": "code",
   "execution_count": null,
   "metadata": {
    "id": "Wjdp3J3T5ub7",
    "outputId": "b41302cd-777d-4c80-ad4e-ca9865c271e9"
   },
   "outputs": [
    {
     "data": {
      "text/plain": [
       "ObjectApiResponse({'acknowledged': True, 'shards_acknowledged': True})"
      ]
     },
     "execution_count": 15,
     "metadata": {},
     "output_type": "execute_result"
    }
   ],
   "source": [
    "es.indices.close(index=\"tfidf_index\")\n",
    "es.indices.put_settings(index=\"tfidf_index\", \n",
    "                        settings={\n",
    "                            \"similarity\": {\n",
    "                                  \"default\": {\n",
    "                                    \"type\": \"scripted\",\n",
    "                                    \"script\": {\n",
    "                                      \"source\": \"double tf = Math.sqrt(doc.freq); double idf = Math.log((field.docCount+1.0)/(term.docFreq+1.0)) + 1.0; double norm = 1/Math.sqrt(doc.length); return query.boost * tf * idf * norm;\"\n",
    "                                    }\n",
    "                                  }\n",
    "                            }\n",
    "                        }\n",
    "                       )\n",
    "es.indices.open(index=\"tfidf_index\")"
   ]
  },
  {
   "cell_type": "code",
   "execution_count": null,
   "metadata": {
    "id": "yWL-Cs1d5ub8"
   },
   "outputs": [],
   "source": [
    "all_res_tfidf = []\n",
    "for t in texts:\n",
    "    res_tfidf = es.search(index=\"tfidf_index\", body=get_query(t), explain=True)\n",
    "    all_res_tfidf.append(dict(res_tfidf))"
   ]
  },
  {
   "cell_type": "code",
   "execution_count": null,
   "metadata": {
    "id": "tSKoSGRs5ub9",
    "outputId": "c7d4142b-5525-45b4-87ac-9873739d9b09"
   },
   "outputs": [],
   "source": [
    "for a in all_res_tfidf:\n",
    "    print(a, end=\"_______________\\n\")"
   ]
  },
  {
   "cell_type": "code",
   "execution_count": null,
   "metadata": {
    "id": "lM7ejz7t5ub9",
    "outputId": "58c86c4a-f9c5-42c6-e563-96d65658e5ee"
   },
   "outputs": [
    {
     "name": "stdout",
     "output_type": "stream",
     "text": [
      "ترکش اختلافات به کشتی برخورد کرد/انصراف روسیه از مسابقات قهرمانی اروپا\n",
      "فیفا و یوفا روسیه را از تمام مسابقات فوتبال کنار گذاشتند\n",
      "واکنش حسینی به عصبانیت غربگرایان / روابط تهران و مسکو بر اساس احترام و منافع متقابل است\n",
      "سفر رئیسی به روسیه پیامدهای مهمی برای ثبات منطقه و شکوفایی اقتصادی دارد\n",
      "پاراتیراندازی با کمان قهرمانی جهان| قهرمانی و مدال طلای کامپوند مردان /بانوان به مدال برنز رسیدند\n",
      "جام ملت های فوتسال اروپا|  اسپانیا باز هم در مقابل پرتغال ناکام ماند/صعود سخت روس‌ها به فینال\n",
      "رئیس جمهور: مقدمات نهایی شدن سند جامع همکاری‌های ایران و روسیه فراهم شده است\n",
      "جام ملت های فوتسال اروپا | پرتغال قهرمان شد\n",
      "وزارت ورزش روسیه دست به کار شد/آغاز رایزنی برای کاهش محرومیت‌ها\n",
      "اعتراض روسی‌ها به تصمیمات فیفا و کمیته ملی المپیک\n",
      "----------------------------\n",
      "پاسخ خواندنی شریعتمداری به ادعای یک اصلاح‌طلب\n",
      "مذاکره زیر سایه تزویر/ وقتی ظریف پیگیر انجام آزمایش موشکی بود\n",
      "عضو دفتر جلیلی، نامه ۲۰۰ صفحه‌ای منتسب به وی را «خیالی» خواند\n",
      "توضیحات قالیباف درباره مذاکرات وین در جلسه غیرعلنی مجلس\n",
      "بهادری‌جهرمی: سیاست‌خارجی نتیجه‌گرا تحریم‌ را بدون امید بستن به وین و نیویورک خنثی کرده است\n",
      "وقتی اصلاح‌طلبان نمی‌فهمند چه چیزی را امضا کرده‌اند/ تغییر زمین بازی برای پاس کردن چک برگشتی برجام\n",
      "بازماندگان ظریف و روحانی مشغول کارند/ هزینه‌سازی مدیرکل وزارت خارجه برای کشور\n",
      "همایش «اجماع بر منافع ملی در مذاکرات وین» توسط خانه احزاب برگزار می‌شود\n",
      "نشر خبر توقیف دو نفتکش ایرانی در این مقطع از مذاکرات، ترفند آمریکا برای امتیازگیری است\n",
      "یک مأموریت‌ فتنه 88 کاهش قدرت چانه‌زنی مسؤولان در مذاکرات بود\n",
      "----------------------------\n",
      "مخالفت کمیسیون بهداشت و درمان مجلس با ادغام آموزش پزشکی در آموزش عالی\n",
      "3.5 میلیون زوج نابارور به دلیل هزینه‌های بالای درمان آرزوی مادر و پدر شدن دارند\n",
      "قالیباف: باید تضاد منافع در حوزه بهداشت و درمان از بین برود\n",
      "بررسی آخرین وضعیت بودجه 1400 وزارت بهداشت/ ارز ترجیحی دارو و تجهیزات پزشکی پرداخت می‌شود\n",
      "جلسه فوق‌العاده ستاد ملی کرونا/  محدودیت ورود مسافر از برخی کشورها\n",
      "وزیر بهداشت به سوالات نمایندگان درباره و اکسن توجهی نکرده/ عین‌اللهی به جلسه کمیسیون بهداشت نیامد\n",
      "لایحه مقاوله‌نامه ایمنی و بهداشت شغلی تصویب شد\n",
      "عضو فراکسیون روحانیت مجلس: بورس مطالبه اساسی مردم است\n",
      "مانع‌زدایی از تولید نیازمند حذف بروکراسی و فسادهای اداری است\n",
      "ارتباط تصویری سرلشکر موسوی با پرستاران ارتش\n",
      "----------------------------\n"
     ]
    }
   ],
   "source": [
    "for res in all_res_tfidf:\n",
    "    for doc in res['hits']['hits']:\n",
    "        print(doc['_source']['title'])\n",
    "    print(\"----------------------------\")"
   ]
  },
  {
   "cell_type": "markdown",
   "metadata": {
    "id": "3mdNjt3_5ub9"
   },
   "source": [
    "# Create BM25 Index"
   ]
  },
  {
   "cell_type": "code",
   "execution_count": null,
   "metadata": {
    "id": "sIvZ9N6C5ub-",
    "outputId": "430b210c-65de-4a82-b453-87ccf43060b5"
   },
   "outputs": [
    {
     "data": {
      "text/plain": [
       "ObjectApiResponse({'acknowledged': True, 'shards_acknowledged': True, 'index': 'my_index'})"
      ]
     },
     "execution_count": 20,
     "metadata": {},
     "output_type": "execute_result"
    }
   ],
   "source": [
    "es.indices.delete(index=\"my_index\")\n",
    "es.indices.create(index=\"my_index\"                    \n",
    "                 \n",
    "                 )"
   ]
  },
  {
   "cell_type": "code",
   "execution_count": null,
   "metadata": {
    "id": "geupOnkU5ub-",
    "outputId": "1be806d8-28bb-4768-e070-440712fc115f"
   },
   "outputs": [
    {
     "name": "stderr",
     "output_type": "stream",
     "text": [
      "100%|█████████████████████████████████████| 12202/12202 [18:33<00:00, 10.96it/s]\n"
     ]
    }
   ],
   "source": [
    "for i in tqdm(range(len(data))):\n",
    "    es.index(index='my_index',\n",
    "        id=i, body=data[str(i)])\n",
    "    i = i + 1"
   ]
  },
  {
   "cell_type": "code",
   "execution_count": null,
   "metadata": {
    "id": "OHoUnpXn5ub-",
    "outputId": "5567a184-88d3-473d-99c8-4fa273ec2b70"
   },
   "outputs": [
    {
     "data": {
      "text/plain": [
       "ObjectApiResponse({'acknowledged': True, 'shards_acknowledged': True})"
      ]
     },
     "execution_count": 22,
     "metadata": {},
     "output_type": "execute_result"
    }
   ],
   "source": [
    "es.indices.close(index=\"my_index\")\n",
    "es.indices.put_settings(index=\"my_index\", \n",
    "                        settings={\n",
    "                            \"similarity\": {\n",
    "                                  \"default\": {\n",
    "                                    \"type\": \"BM25\"\n",
    "                                  }\n",
    "                            }\n",
    "                        }\n",
    "                       )\n",
    "es.indices.open(index=\"my_index\")"
   ]
  },
  {
   "cell_type": "code",
   "execution_count": null,
   "metadata": {
    "id": "kkRi_vKA5ub_"
   },
   "outputs": [],
   "source": [
    "all_res_bm = []\n",
    "for t in texts:\n",
    "    res_bm = es.search(index=\"my_index\", body=get_query(t), explain=True)\n",
    "    all_res_bm.append(dict(res_bm))"
   ]
  },
  {
   "cell_type": "code",
   "execution_count": null,
   "metadata": {
    "id": "otQ_oUfa5ub_",
    "outputId": "6afb55d4-015e-497a-8327-37de610627f7"
   },
   "outputs": [],
   "source": [
    "for a in all_res_bm:\n",
    "    print(a, end=\"_______________\\n\")"
   ]
  },
  {
   "cell_type": "code",
   "execution_count": null,
   "metadata": {
    "id": "BsDQnL9L5ucA",
    "outputId": "6ce71daf-63af-4c85-e833-63794f81a4d3"
   },
   "outputs": [
    {
     "name": "stdout",
     "output_type": "stream",
     "text": [
      "حریفان والیبال ایران در لیگ ملت‌ها مشخص شدند/ هفته نفسگیر شاگردان عطایی در صوفیه\n",
      "برنامه مسابقات تیم ملی والیبال در لیگ ملت‌ها/ تقابل با دو حریف آسیایی در کمتر از 16 ساعت\n",
      "داورزنی تاریخ بازی‌های آسیایی را جا به‌جا می‌کند\n",
      "اتحادیه جهانی اعلام کرد؛ کشتی فرنگی ایران در بین بهترین‌های سال ۲۰۲۱\n",
      "رقیب حسن یزدانی در روسیه محک می‌خورد/کدام مدال‌آوران آمریکا به جام یاریگین می‌روند؟\n",
      "ترکش اختلافات به کشتی برخورد کرد/انصراف روسیه از مسابقات قهرمانی اروپا\n",
      "سرلشکر باقری: قراردادهای خرید تسلیحاتی در سفر به روسیه پیگیری می‌شود/ تبادل نظر ایران و روسیه درباره افغانستان\n",
      "پاراتیراندازی با کمان قهرمانی جهان| قهرمانی و مدال طلای کامپوند مردان /بانوان به مدال برنز رسیدند\n",
      "قهرمان یخ‌نوردی دنیا: به جنگ حریفانی می‌رویم که تا دندان مسلح‌اند/ فقط 10 روز تمرین داشتیم\n",
      "فیفا و یوفا روسیه را از تمام مسابقات فوتبال کنار گذاشتند\n",
      "----------------------------\n",
      "وقتی اصلاح‌طلبان نمی‌فهمند چه چیزی را امضا کرده‌اند/ تغییر زمین بازی برای پاس کردن چک برگشتی برجام\n",
      "پاسخ خواندنی شریعتمداری به ادعای یک اصلاح‌طلب\n",
      "مذاکره زیر سایه تزویر/ وقتی ظریف پیگیر انجام آزمایش موشکی بود\n",
      "بازماندگان ظریف و روحانی مشغول کارند/ هزینه‌سازی مدیرکل وزارت خارجه برای کشور\n",
      "عضو دفتر جلیلی، نامه ۲۰۰ صفحه‌ای منتسب به وی را «خیالی» خواند\n",
      "یک مأموریت‌ فتنه 88 کاهش قدرت چانه‌زنی مسؤولان در مذاکرات بود\n",
      "اصلاح‌طلبان و پالس ناامیدی که به وین می‌فرستند/ پای منفعت مشترک با آمریکا در میان است؟\n",
      "مراقب تحریف‌های تاریخی روحانی و ظریف در برجام باشیم/ سناریو جدیدی در خارج از ایران علیه جبهه انقلاب شکل گرفته\n",
      "سؤال نماینده مجلس درباره باقی ماندن افراد مسئله‌دار دولت قبل در وزارت‌خارجه\n",
      "همایش «اجماع بر منافع ملی در مذاکرات وین» توسط خانه احزاب برگزار می‌شود\n",
      "----------------------------\n",
      "مخالفت کمیسیون بهداشت و درمان مجلس با ادغام آموزش پزشکی در آموزش عالی\n",
      "جلسه فوق‌العاده ستاد ملی کرونا/  محدودیت ورود مسافر از برخی کشورها\n",
      "تأکید بر تزریق دوز یادآور واکسن کرونا برای مقابله با سویه اومیکرون\n",
      "مخبر: تأثیر واکسیناسیون بر کاهش شهرهای قرمز و آمار مرگ‌ومیر کاملاً مشهود است\n",
      "مانع‌زدایی از تولید نیازمند حذف بروکراسی و فسادهای اداری است\n",
      "لزوم شفاف سازی وزارت بهداشت درباره واکسیناسیون/ نظر منتقدین را بشنوید\n",
      "تاریخ آزمون دوره 49 دستیاری تخصصی پزشکی تصحیح شود\n",
      "آیت‌الله رئیسی: اقناع افکار عمومی در مسیر مقابله با کرونا ضروری است/ وزارت بهداشت از واکسن‌های تولید داخل حمایت کند\n",
      "رئیسی: دارو نباید گران شود/ لزوم رعایت شیوه نامه‌ها و کنترل دقیق ترددهای مرزی\n",
      "تذکر نماینده مجلس به وزارت جهاد کشاورزی درباره بازگشت محصولات کشاورزی صادراتی\n",
      "----------------------------\n"
     ]
    }
   ],
   "source": [
    "for res in all_res_bm:\n",
    "    for doc in res['hits']['hits']:\n",
    "        print(doc['_source']['title'])\n",
    "    print(\"----------------------------\")"
   ]
  },
  {
   "cell_type": "markdown",
   "metadata": {
    "id": "VLtvLoFu5ucA"
   },
   "source": [
    "# Create LMDirichlet Index"
   ]
  },
  {
   "cell_type": "code",
   "execution_count": null,
   "metadata": {
    "id": "rYLG2g9T5ucB"
   },
   "outputs": [],
   "source": [
    "es.indices.delete(index=\"LMDirichlet_index\")\n",
    "es.indices.create(index=\"LMDirichlet_index\"                    \n",
    "                 \n",
    "                 )"
   ]
  },
  {
   "cell_type": "code",
   "execution_count": null,
   "metadata": {
    "id": "g_WJ44ns5ucB"
   },
   "outputs": [],
   "source": [
    "for i in tqdm(range(len(data))):\n",
    "    es.index(index='LMDirichlet_index',\n",
    "        id=i, body=data[str(i)])\n",
    "    i = i + 1"
   ]
  },
  {
   "cell_type": "code",
   "execution_count": null,
   "metadata": {
    "id": "8R3FtRXd5ucB"
   },
   "outputs": [],
   "source": [
    "es.indices.close(index=\"LMDirichlet_index\")\n",
    "es.indices.put_settings(index=\"LMDirichlet_index\", \n",
    "                        settings={\n",
    "                            \"similarity\": {\n",
    "                                  \"default\": {\n",
    "                                    \"type\": \"LMDirichlet\"\n",
    "                                  }\n",
    "                            }\n",
    "                        }\n",
    "                       )\n",
    "es.indices.open(index=\"LMDirichlet_index\")"
   ]
  },
  {
   "cell_type": "code",
   "execution_count": null,
   "metadata": {
    "id": "MOa56aO75ucB"
   },
   "outputs": [],
   "source": [
    "body2 ={\n",
    "    \"query\":{         \n",
    "        \"match\" : {\n",
    "#             \"content\" : \"مشکل کم آبی و محیط زیست در کشور ایران\"\n",
    "            \"content\" : \"ایران در خاورمیانه\"\n",
    "\n",
    "        }\n",
    "            \n",
    "    }\n",
    "}\n",
    "\n",
    "res_LMDirichlet = es.search(index=\"LMDirichlet_index\", body=body2, explain=True)\n",
    "res_LMDirichlet = dict(res_LMDirichlet)"
   ]
  },
  {
   "cell_type": "code",
   "execution_count": null,
   "metadata": {
    "id": "DUQaOkEk5ucC"
   },
   "outputs": [],
   "source": [
    "res_LMDirichlet"
   ]
  },
  {
   "cell_type": "code",
   "execution_count": null,
   "metadata": {
    "id": "p3VdHDwM5ucC"
   },
   "outputs": [],
   "source": [
    "for doc in res_LMDirichlet['hits']['hits']:\n",
    "    print(doc['_source']['title'])"
   ]
  }
 ],
 "metadata": {
  "colab": {
   "provenance": []
  },
  "kernelspec": {
   "display_name": "Python 3 (ipykernel)",
   "language": "python",
   "name": "python3"
  },
  "language_info": {
   "codemirror_mode": {
    "name": "ipython",
    "version": 3
   },
   "file_extension": ".py",
   "mimetype": "text/x-python",
   "name": "python",
   "nbconvert_exporter": "python",
   "pygments_lexer": "ipython3",
   "version": "3.10.4"
  }
 },
 "nbformat": 4,
 "nbformat_minor": 4
}

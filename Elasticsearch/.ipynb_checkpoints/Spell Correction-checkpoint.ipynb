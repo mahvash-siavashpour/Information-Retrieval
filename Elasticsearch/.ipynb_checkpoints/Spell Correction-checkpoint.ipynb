{
 "cells": [
  {
   "cell_type": "code",
   "execution_count": null,
   "metadata": {
    "colab": {
     "base_uri": "https://localhost:8080/"
    },
    "executionInfo": {
     "elapsed": 3759,
     "status": "ok",
     "timestamp": 1655927586804,
     "user": {
      "displayName": "Zeinab Khalvandi",
      "userId": "07115254917799255953"
     },
     "user_tz": -270
    },
    "id": "gBK1LRVD525F",
    "outputId": "5da734c4-0161-4fdd-91fc-2e840318c2f8"
   },
   "outputs": [
    {
     "name": "stdout",
     "output_type": "stream",
     "text": [
      "Looking in indexes: https://pypi.org/simple, https://us-python.pkg.dev/colab-wheels/public/simple/\n",
      "Requirement already satisfied: elasticsearch in /usr/local/lib/python3.7/dist-packages (8.2.3)\n",
      "Requirement already satisfied: elastic-transport<9,>=8 in /usr/local/lib/python3.7/dist-packages (from elasticsearch) (8.1.2)\n",
      "Requirement already satisfied: urllib3<2,>=1.26.2 in /usr/local/lib/python3.7/dist-packages (from elastic-transport<9,>=8->elasticsearch) (1.26.9)\n",
      "Requirement already satisfied: certifi in /usr/local/lib/python3.7/dist-packages (from elastic-transport<9,>=8->elasticsearch) (2022.6.15)\n"
     ]
    }
   ],
   "source": [
    "!pip install elasticsearch"
   ]
  },
  {
   "cell_type": "code",
   "execution_count": null,
   "metadata": {
    "colab": {
     "base_uri": "https://localhost:8080/"
    },
    "executionInfo": {
     "elapsed": 25,
     "status": "ok",
     "timestamp": 1655927586805,
     "user": {
      "displayName": "Zeinab Khalvandi",
      "userId": "07115254917799255953"
     },
     "user_tz": -270
    },
    "id": "B-gVgyD2WjUX",
    "outputId": "8773a2dc-0803-40b5-d98d-88d7c504c387"
   },
   "outputs": [
    {
     "name": "stderr",
     "output_type": "stream",
     "text": [
      "/usr/local/lib/python3.7/dist-packages/requests/__init__.py:91: RequestsDependencyWarning: urllib3 (1.26.9) or chardet (3.0.4) doesn't match a supported version!\n",
      "  RequestsDependencyWarning)\n"
     ]
    }
   ],
   "source": [
    "from elasticsearch import Elasticsearch\n",
    "from elasticsearch import helpers\n",
    "import json\n",
    "from tqdm import tqdm\n",
    "import re\n",
    "from copy import deepcopy"
   ]
  },
  {
   "cell_type": "code",
   "execution_count": null,
   "metadata": {
    "colab": {
     "base_uri": "https://localhost:8080/"
    },
    "executionInfo": {
     "elapsed": 2545,
     "status": "ok",
     "timestamp": 1655927589335,
     "user": {
      "displayName": "Zeinab Khalvandi",
      "userId": "07115254917799255953"
     },
     "user_tz": -270
    },
    "id": "gu7Vgy5X50mZ",
    "outputId": "6b3303bf-b4ff-456a-d393-a2ca8fdbe852"
   },
   "outputs": [
    {
     "name": "stdout",
     "output_type": "stream",
     "text": [
      "Drive already mounted at /content/drive; to attempt to forcibly remount, call drive.mount(\"/content/drive\", force_remount=True).\n"
     ]
    }
   ],
   "source": [
    "from google.colab import drive\n",
    "drive.mount('/content/drive')"
   ]
  },
  {
   "cell_type": "code",
   "execution_count": null,
   "metadata": {
    "id": "XIhbKsZPWjUc"
   },
   "outputs": [],
   "source": [
    "with open(\"/content/drive/MyDrive/IR_Spring2022/Copy of IR_data_news_12k.json\" , 'r') as f:\n",
    "    data = json.load(f)"
   ]
  },
  {
   "cell_type": "code",
   "execution_count": null,
   "metadata": {
    "colab": {
     "base_uri": "https://localhost:8080/"
    },
    "executionInfo": {
     "elapsed": 82,
     "status": "ok",
     "timestamp": 1655927592705,
     "user": {
      "displayName": "Zeinab Khalvandi",
      "userId": "07115254917799255953"
     },
     "user_tz": -270
    },
    "id": "UacBA_FNWjUc",
    "outputId": "671cf35f-1e2e-4d6b-a9b1-7dfa12bbcb4d"
   },
   "outputs": [
    {
     "name": "stderr",
     "output_type": "stream",
     "text": [
      "100%|██████████| 12202/12202 [00:00<00:00, 368681.55it/s]\n"
     ]
    }
   ],
   "source": [
    "data_tmp = []\n",
    "for i in tqdm(range(len(data))):\n",
    "    doc = data[f'{i}']\n",
    "    content = {\n",
    "        \"content_title\":doc['content']\n",
    "    }\n",
    "    title = {\n",
    "        \"content_title\":doc['title']\n",
    "    }\n",
    "    data_tmp.append(content)\n",
    "    data_tmp.append(title)\n",
    "    "
   ]
  },
  {
   "cell_type": "code",
   "execution_count": null,
   "metadata": {
    "id": "uh3bSlTgWjUe"
   },
   "outputs": [],
   "source": [
    "def load_data_to_elastic(es,data,index_name):\n",
    "    data_bulk = [\n",
    "        {\n",
    "            \"_index\" : index_name,\n",
    "            \"_id\" : i + 1,\n",
    "            \"_source\": data[i]\n",
    "        }\n",
    "        for i in range(len(data))\n",
    "    ]\n",
    "    resp = helpers.bulk(\n",
    "        es,\n",
    "        data_bulk,\n",
    "        index = index_name,request_timeout=30\n",
    "    )\n",
    "    print(resp)"
   ]
  },
  {
   "cell_type": "markdown",
   "metadata": {
    "id": "mJt2RQWYWjUe"
   },
   "source": [
    "***Section One***"
   ]
  },
  {
   "cell_type": "code",
   "execution_count": null,
   "metadata": {
    "id": "c0pZr9QVWjUg"
   },
   "outputs": [],
   "source": [
    "sc_mapping = { \n",
    "    \"settings\": {\n",
    "    \"index\": {\n",
    "      \"analysis\": {\n",
    "        \"char_filter\": {\n",
    "            \"zero_width_spaces\": {\n",
    "                \"type\":       \"mapping\",\n",
    "                \"mappings\": [ \"\\\\u200C=>\\\\u0020\"] \n",
    "            }\n",
    "        },\n",
    "        \"analyzer\": {\n",
    "          \"trigram\": {\n",
    "            \"type\": \"custom\",\n",
    "            \"tokenizer\": \"standard\",\n",
    "            \"char_filter\": [ \"zero_width_spaces\" ],\n",
    "            \"filter\": [\"shingle\"]\n",
    "          }\n",
    "        },\n",
    "        \"filter\": {\n",
    "          \"shingle\": {\n",
    "            \"type\": \"shingle\",\n",
    "            \"min_shingle_size\": 2,\n",
    "            \"max_shingle_size\": 3\n",
    "          }\n",
    "        }\n",
    "      }\n",
    "    }\n",
    "  },\n",
    "    \"mappings\": {\n",
    "        \"properties\": {\n",
    "            \"content_title\": {\n",
    "            \"type\": \"text\",\n",
    "            \"fields\": {\n",
    "                  \"trigram\": {\n",
    "                    \"type\": \"text\",\n",
    "                    \"analyzer\": \"trigram\"\n",
    "                  }\n",
    "                }\n",
    "            }\n",
    "        }\n",
    "    }\n",
    "}"
   ]
  },
  {
   "cell_type": "code",
   "execution_count": null,
   "metadata": {
    "id": "wCIDtVzqWjUh"
   },
   "outputs": [],
   "source": [
    "# Name of index \n",
    "sc_index_name = 'ir_test_sc'"
   ]
  },
  {
   "cell_type": "code",
   "execution_count": null,
   "metadata": {
    "id": "eG04pKrXWjUh"
   },
   "outputs": [],
   "source": [
    "es = Elasticsearch(\"http://localhost:9200\")"
   ]
  },
  {
   "cell_type": "code",
   "execution_count": null,
   "metadata": {
    "colab": {
     "base_uri": "https://localhost:8080/"
    },
    "executionInfo": {
     "elapsed": 64,
     "status": "ok",
     "timestamp": 1655927592712,
     "user": {
      "displayName": "Zeinab Khalvandi",
      "userId": "07115254917799255953"
     },
     "user_tz": -270
    },
    "id": "3W6iFMv38WKV",
    "outputId": "787f611d-1c80-4333-f704-cec336d4010d"
   },
   "outputs": [
    {
     "data": {
      "text/plain": [
       "<Elasticsearch(['http://localhost:9200'])>"
      ]
     },
     "execution_count": 10,
     "metadata": {},
     "output_type": "execute_result"
    }
   ],
   "source": [
    "es"
   ]
  },
  {
   "cell_type": "code",
   "execution_count": null,
   "metadata": {
    "colab": {
     "base_uri": "https://localhost:8080/",
     "height": 455
    },
    "executionInfo": {
     "elapsed": 77,
     "status": "error",
     "timestamp": 1655927592732,
     "user": {
      "displayName": "Zeinab Khalvandi",
      "userId": "07115254917799255953"
     },
     "user_tz": -270
    },
    "id": "Z8gRRM77WjUi",
    "outputId": "1a0ad1c8-f84d-40e7-aa73-5f0ead4f5f06"
   },
   "outputs": [],
   "source": [
    "# Delete index if one does exist\n",
    "if es.indices.exists(index=sc_index_name):\n",
    "    es.indices.delete(index=sc_index_name)\n",
    "\n",
    "# Create index\n",
    "es.indices.create(index=sc_index_name, body=sc_mapping)"
   ]
  },
  {
   "cell_type": "code",
   "execution_count": null,
   "metadata": {
    "id": "irj3_53iWjUi"
   },
   "outputs": [],
   "source": [
    "load_data_to_elastic(es,data_tmp,sc_index_name)"
   ]
  },
  {
   "cell_type": "code",
   "execution_count": null,
   "metadata": {
    "id": "qLE3HVB3WjUj"
   },
   "outputs": [],
   "source": [
    "def get_suggestions(text , index_name):\n",
    "    resp = es.search(index=index_name,suggest={\n",
    "        \"text\": text,\n",
    "        \"simple_phrase\": {\n",
    "            \"phrase\": {\n",
    "                \"smoothing\" : {\n",
    "                    \"laplace\" : {\n",
    "                        \"alpha\" : 0.5\n",
    "                    }\n",
    "                },\n",
    "                \"field\": \"content_title.trigram\",\n",
    "                \"size\": 5,\n",
    "                \"confidence\": 1,\n",
    "                \"real_word_error_likelihood\": 0.95,\n",
    "                \"max_errors\" : 3,\n",
    "                \"direct_generator\": [ \n",
    "                    {\n",
    "                        \"min_word_length\":3,\n",
    "                        \"field\": \"content_title\",\n",
    "                        \"suggest_mode\": \"always\",\n",
    "                        \"prefix_length\":2\n",
    "                    } \n",
    "                ],\n",
    "                \"collate\": {\n",
    "                    \"query\": { \n",
    "                        \"source\" : {\n",
    "                            \"match_phrase\": {\n",
    "                            \"{{field_name}}\" : \"{{suggestion}}\" \n",
    "                            }\n",
    "                        }\n",
    "                    },\n",
    "                    \"params\": {\"field_name\" : \"content_title\"}, \n",
    "                    \"prune\": True \n",
    "                }\n",
    "            }\n",
    "        }\n",
    "    },size=0)\n",
    "    return dict(resp)"
   ]
  },
  {
   "cell_type": "code",
   "execution_count": null,
   "metadata": {
    "id": "Qfgb-XHDWjUk"
   },
   "outputs": [],
   "source": [
    "texts = [\n",
    "    \"لیک برتر فوطبال\",\n",
    "    \"تورنومنت شش جانبه\",\n",
    "    \"طبعیض نژادی\",\n",
    "    \"اردوی طیم امیذ\",\n",
    "    \"جام ملب های آشیا\",\n",
    "    \"کنره سیاسی آمریکا\",\n",
    "    \"انغلاب اشلامی ایران\",\n",
    "    \"فدراصیون فوتبال بلژیک\",\n",
    "    \"لایهه مجلص خبرگان\",\n",
    "    \"نحبگان دانشگاهی\",\n",
    "    \"نمایند مجل\",\n",
    "    \"فضاسازی کازب\",\n",
    "    \"صلاح ایرادات شورای تگهبان\",\n",
    "    \"تهریف های تاریخی\",\n",
    "    \"قلیت های دینی\",\n",
    "    \"تدارکان لازم\",\n",
    "]"
   ]
  },
  {
   "cell_type": "code",
   "execution_count": null,
   "metadata": {
    "id": "VKHvgDbMWjUk"
   },
   "outputs": [],
   "source": [
    "for text in texts:\n",
    "    print(get_suggestions(text,sc_index_name )['suggest'])\n",
    "    print(\"========================\")"
   ]
  },
  {
   "cell_type": "markdown",
   "metadata": {
    "id": "bCKDOvKNWjUl"
   },
   "source": [
    "***Section 2***"
   ]
  },
  {
   "cell_type": "code",
   "execution_count": null,
   "metadata": {
    "id": "c_G2Ye0MWjUl"
   },
   "outputs": [],
   "source": [
    "sc_mapping_v1 = { \n",
    "    \"settings\": {\n",
    "    \"index\": {\n",
    "      \"analysis\": {\n",
    "        \"char_filter\": {\n",
    "            \"zero_width_spaces\": {\n",
    "                \"type\":       \"mapping\",\n",
    "                \"mappings\": [ \"\\\\u200C=>\\\\u0020\"] \n",
    "            }\n",
    "        },\n",
    "        \"analyzer\": {\n",
    "          \"trigram\": {\n",
    "            \"type\": \"custom\",\n",
    "            \"tokenizer\": \"standard\",\n",
    "            \"char_filter\": [ \"zero_width_spaces\" ],\n",
    "            \"filter\": [\"shingle\"]\n",
    "          },\n",
    "        \"reverse\": {\n",
    "            \"type\": \"custom\",\n",
    "            \"tokenizer\": \"standard\",\n",
    "            \"char_filter\": [ \"zero_width_spaces\"],\n",
    "            \"filter\": [\"reverse\"]\n",
    "          }\n",
    "        },\n",
    "        \"filter\": {\n",
    "          \"shingle\": {\n",
    "            \"type\": \"shingle\",\n",
    "            \"min_shingle_size\": 2,\n",
    "            \"max_shingle_size\": 3\n",
    "          }\n",
    "        }\n",
    "      }\n",
    "    }\n",
    "  },\n",
    "    \"mappings\": {\n",
    "        \"properties\": {\n",
    "            \"content_title\": {\n",
    "            \"type\": \"text\",\n",
    "            \"fields\": {\n",
    "                  \"trigram\": {\n",
    "                    \"type\": \"text\",\n",
    "                    \"analyzer\": \"trigram\"\n",
    "                  },\n",
    "                  \"reverse\": {\n",
    "                    \"type\": \"text\",\n",
    "                    \"analyzer\": \"reverse\"\n",
    "                  }\n",
    "                }\n",
    "            }\n",
    "        }\n",
    "    }\n",
    "}"
   ]
  },
  {
   "cell_type": "code",
   "execution_count": null,
   "metadata": {
    "id": "zhXscy_9WjUl"
   },
   "outputs": [],
   "source": [
    "# Name of index \n",
    "sc_index_name_v1 = 'ir_test_sc_v1'"
   ]
  },
  {
   "cell_type": "code",
   "execution_count": null,
   "metadata": {
    "id": "Tg0YkPwRWjUm"
   },
   "outputs": [],
   "source": [
    "# Delete index if one does exist\n",
    "if es.indices.exists(index=sc_index_name_v1):\n",
    "    es.indices.delete(index=sc_index_name_v1)\n",
    "\n",
    "# Create index\n",
    "es.indices.create(index=sc_index_name_v1, body=sc_mapping_v1)"
   ]
  },
  {
   "cell_type": "code",
   "execution_count": null,
   "metadata": {
    "id": "V5Yd4TzqWjUm"
   },
   "outputs": [],
   "source": [
    "load_data_to_elastic(es,data_tmp,sc_index_name_v1)"
   ]
  },
  {
   "cell_type": "code",
   "execution_count": null,
   "metadata": {
    "id": "klQTUrJCWjUm"
   },
   "outputs": [],
   "source": [
    "def get_suggestions_v1(text , index_name):\n",
    "    resp = es.search(index=index_name,suggest={\n",
    "        \"text\": text,\n",
    "        \"simple_phrase\": {\n",
    "            \"phrase\": {\n",
    "                \"smoothing\" : {\n",
    "                    \"laplace\" : {\n",
    "                        \"alpha\" : 0.7\n",
    "                    }\n",
    "                },\n",
    "                \"field\": \"content_title.trigram\",\n",
    "                \"size\": 5,\n",
    "                \"confidence\": 1,\n",
    "                \"real_word_error_likelihood\": 0.95,\n",
    "                \"max_errors\" : 3,\n",
    "                \"direct_generator\": [ \n",
    "                    {\n",
    "                        \"min_word_length\":3,\n",
    "                        \"field\": \"content_title.trigram\",\n",
    "                        \"suggest_mode\": \"always\",\n",
    "                        \"min_word_length\":3,\n",
    "                        \"prefix_length\":1\n",
    "                    },\n",
    "                    {\n",
    "                      \"field\" : \"content_title.reverse\",\n",
    "                      \"suggest_mode\" : \"popular\",\n",
    "                      \"pre_filter\" : \"reverse\",\n",
    "                      \"post_filter\" : \"reverse\",\n",
    "                      \"min_word_length\":3,\n",
    "                      \"prefix_length\":1\n",
    "                    }\n",
    "                ],\n",
    "                \"collate\": {\n",
    "                    \"query\": { \n",
    "                        \"source\" : {\n",
    "                            \"match_phrase\": {\n",
    "                            \"{{field_name}}\" : \"{{suggestion}}\" \n",
    "                            }\n",
    "                        }\n",
    "                    },\n",
    "                    \"params\": {\"field_name\" : \"content_title\"}, \n",
    "                    \"prune\": True \n",
    "                }\n",
    "            }\n",
    "        }\n",
    "    },size=0)\n",
    "    return dict(resp)"
   ]
  },
  {
   "cell_type": "code",
   "execution_count": null,
   "metadata": {
    "id": "aHgQI5XDWjUn"
   },
   "outputs": [],
   "source": [
    "for text in texts:\n",
    "    print(get_suggestions_v1(text,sc_index_name_v1 )['suggest']['simple_phrase'])\n",
    "    print(\"========================\")"
   ]
  },
  {
   "cell_type": "markdown",
   "metadata": {
    "id": "_JT93A0qWjUn"
   },
   "source": [
    "***Section Three***"
   ]
  },
  {
   "cell_type": "code",
   "execution_count": null,
   "metadata": {
    "id": "to-kjWe1WjUn"
   },
   "outputs": [],
   "source": [
    "sc_mapping_v2 = { \n",
    "    \"settings\": {\n",
    "    \"index\": {\n",
    "      \"analysis\": {\n",
    "        \"char_filter\": {\n",
    "            \"zero_width_spaces\": {\n",
    "                \"type\":       \"mapping\",\n",
    "                \"mappings\": [ \"\\\\u200C=>\\\\u0020\"] \n",
    "            }\n",
    "        },\n",
    "        \"analyzer\": {\n",
    "          \"trigram\": {\n",
    "            \"type\": \"custom\",\n",
    "            \"tokenizer\": \"standard\",\n",
    "            \"char_filter\": [ \"zero_width_spaces\" ],\n",
    "            \"filter\": [\"decimal_digit\",\"shingle\"]\n",
    "          },\n",
    "        \"reverse\": {\n",
    "            \"type\": \"custom\",\n",
    "            \"tokenizer\": \"standard\",\n",
    "            \"char_filter\": [ \"zero_width_spaces\"],\n",
    "            \"filter\": [\"decimal_digit\",\"reverse\"]\n",
    "          },\n",
    "        \"synonym\": {\n",
    "            \"tokenizer\": \"whitespace\",\n",
    "            \"filter\": [ \"synonym\" ]\n",
    "         }\n",
    "        },\n",
    "        \"filter\": {\n",
    "          \"shingle\": {\n",
    "            \"type\": \"shingle\",\n",
    "            \"min_shingle_size\": 2,\n",
    "            \"max_shingle_size\": 3\n",
    "          },\n",
    "            \"synonym\": {\n",
    "            \"type\": \"synonym\",\n",
    "            \"synonyms_path\": \"analysis/synonyms.txt\"\n",
    "          }\n",
    "        }\n",
    "      }\n",
    "    }\n",
    "  },\n",
    "    \"mappings\": {\n",
    "        \"properties\": {\n",
    "            \"content_title\": {\n",
    "            \"type\": \"text\",\n",
    "            \"fields\": {\n",
    "                  \"trigram\": {\n",
    "                    \"type\": \"text\",\n",
    "                    \"analyzer\": \"trigram\"\n",
    "                  },\n",
    "                  \"reverse\": {\n",
    "                    \"type\": \"text\",\n",
    "                    \"analyzer\": \"reverse\"\n",
    "                  }\n",
    "                }\n",
    "            }\n",
    "        }\n",
    "    }\n",
    "}"
   ]
  },
  {
   "cell_type": "code",
   "execution_count": null,
   "metadata": {
    "id": "r1GZJMgdWjUn"
   },
   "outputs": [],
   "source": [
    "sc_index_name_v2 = 'ir_test_sc_v2'"
   ]
  },
  {
   "cell_type": "code",
   "execution_count": null,
   "metadata": {
    "id": "founZYOMWjUo"
   },
   "outputs": [],
   "source": [
    "# Delete index if one does exist\n",
    "if es.indices.exists(index=sc_index_name_v2):\n",
    "    es.indices.delete(index=sc_index_name_v2)\n",
    "\n",
    "# Create index\n",
    "es.indices.create(index=sc_index_name_v2, body=sc_mapping_v2)"
   ]
  },
  {
   "cell_type": "code",
   "execution_count": null,
   "metadata": {
    "id": "xxN56mdhWjUo"
   },
   "outputs": [],
   "source": [
    "load_data_to_elastic(es,data_tmp,sc_index_name_v2)"
   ]
  },
  {
   "cell_type": "code",
   "execution_count": null,
   "metadata": {
    "id": "mUu0dtghWjUo"
   },
   "outputs": [],
   "source": [
    "def get_suggestions_v2(text , index_name):\n",
    "    resp = es.search(index=index_name,suggest={\n",
    "        \"text\": text,\n",
    "        \"simple_phrase\": {\n",
    "            \"phrase\": {\n",
    "                \"smoothing\" : {\n",
    "                    \"laplace\" : {\n",
    "                        \"alpha\" : 0.7\n",
    "                    }\n",
    "                },\n",
    "                \"field\": \"content_title.trigram\",\n",
    "                \"size\": 20,\n",
    "                \"confidence\": 1,\n",
    "                \"real_word_error_likelihood\": 0.95,\n",
    "                \"max_errors\" : 3,\n",
    "                \"direct_generator\": [ \n",
    "                    {\n",
    "                        \"field\": \"content_title.trigram\",\n",
    "                        \"suggest_mode\": \"always\",\n",
    "                        \"min_word_length\":3,\n",
    "                        \"prefix_length\":1,\n",
    "                        \n",
    "                    },\n",
    "                    {\n",
    "                      \"field\" : \"content_title.reverse\",\n",
    "                      \"suggest_mode\" : \"always\",\n",
    "                      \"pre_filter\" : \"reverse\",\n",
    "                      \"post_filter\" : \"reverse\",\n",
    "                      \"min_word_length\":3,\n",
    "                      \"prefix_length\":1\n",
    "                    },\n",
    "                    {\n",
    "                        \"field\" : \"content_title\",\n",
    "                        \"suggest_mode\":\"popular\",\n",
    "                        \"post_filter\":\"synonym\",\n",
    "                        \"prefix_length\":3,\n",
    "                        \n",
    "                    }\n",
    "                ]\n",
    "            }\n",
    "        }\n",
    "    },size=0)\n",
    "    return dict(resp)"
   ]
  },
  {
   "cell_type": "code",
   "execution_count": null,
   "metadata": {
    "id": "X8E8ecrKWjUo"
   },
   "outputs": [],
   "source": [
    "for text in texts:\n",
    "    print(get_suggestions_v2(text,sc_index_name_v2 )['suggest']['simple_phrase'])\n",
    "    print(\"====================================\")"
   ]
  },
  {
   "cell_type": "code",
   "execution_count": null,
   "metadata": {
    "id": "Aakf0HaPWjUp"
   },
   "outputs": [],
   "source": []
  }
 ],
 "metadata": {
  "colab": {
   "provenance": []
  },
  "kernelspec": {
   "display_name": "Python 3 (ipykernel)",
   "language": "python",
   "name": "python3"
  },
  "language_info": {
   "codemirror_mode": {
    "name": "ipython",
    "version": 3
   },
   "file_extension": ".py",
   "mimetype": "text/x-python",
   "name": "python",
   "nbconvert_exporter": "python",
   "pygments_lexer": "ipython3",
   "version": "3.10.4"
  }
 },
 "nbformat": 4,
 "nbformat_minor": 4
}
